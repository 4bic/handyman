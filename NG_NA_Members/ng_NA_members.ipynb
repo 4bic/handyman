{
  "cells": [
    {
      "cell_type": "code",
      "metadata": {
        "id": "TsNBmUSK5_LX",
        "colab_type": "code",
        "colab": {}
      },
      "source": [
        "import requests\n",
        "import pandas as pd\n",
        "import json\n",
        "import os \n",
        "from bs4 import BeautifulSoup as BS\n",
        "from urllib.parse import urljoin"
      ],
      "execution_count": 0,
      "outputs": []
    },
    {
      "cell_type": "code",
      "metadata": {
        "id": "PqAklJQSx9rG",
        "colab_type": "code",
        "colab": {}
      },
      "source": [
        "url = \"https://www.nassnig.org/mps/get_legislators/?chamber=\"\n",
        "single_url = \"https://www.nassnig.org/mps/single/\""
      ],
      "execution_count": 0,
      "outputs": []
    },
    {
      "cell_type": "markdown",
      "metadata": {
        "id": "6OLU40Q25TvD",
        "colab_type": "text"
      },
      "source": [
        "## gather details via JSON"
      ]
    },
    {
      "cell_type": "code",
      "metadata": {
        "id": "hXlybOsc6g4o",
        "colab_type": "code",
        "colab": {}
      },
      "source": [
        "members_list = []\n",
        "for i in range(1,3,1):\n",
        "  link = url + str(i)\n",
        "  response = requests.get(link).json()\n",
        "  members = response['data']\n",
        "  for row in members:\n",
        "    member = {\"name\" : row[0],\n",
        "              \"state\" : row[1],\n",
        "              \"party\" :row[3],\n",
        "              \"area\": row[2],\n",
        "              \"member_id\" : row[-1],\n",
        "              'url' :  single_url + row[-1]\n",
        "              }\n",
        "     \n",
        "    # print(member['url']) \n",
        "    members_list.append(member)\n",
        " \n",
        "        "
      ],
      "execution_count": 0,
      "outputs": []
    },
    {
      "cell_type": "code",
      "metadata": {
        "id": "P-1wkhXX8VIr",
        "colab_type": "code",
        "outputId": "8bd74ed7-c55a-43da-89cf-e2c6814d613d",
        "colab": {
          "base_uri": "https://localhost:8080/",
          "height": 34
        }
      },
      "source": [
        "len(members_list)"
      ],
      "execution_count": 0,
      "outputs": [
        {
          "output_type": "execute_result",
          "data": {
            "text/plain": [
              "460"
            ]
          },
          "metadata": {
            "tags": []
          },
          "execution_count": 7
        }
      ]
    },
    {
      "cell_type": "markdown",
      "metadata": {
        "id": "NoSShs3L5JKQ",
        "colab_type": "text"
      },
      "source": [
        "## Use Beautiful Soup for NG members"
      ]
    },
    {
      "cell_type": "code",
      "metadata": {
        "id": "7ZY7jsUvVDze",
        "colab_type": "code",
        "colab": {}
      },
      "source": [
        "domain = \"https://www.nassnig.org\"\n",
        "fetch_bills = \"https://www.nassnig.org/mps/fetch_mp_bills/?sponsor=\"\n",
        "\n",
        "m_Data = []\n",
        "house_rep = []\n",
        "for member in members_list:\n",
        "  # house_rep = {}\n",
        "  member_url = member['url']\n",
        "  id_code = member['member_id']\n",
        "  bills_url = fetch_bills + str(id_code)\n",
        "  # print(member_url)\n",
        "  response = requests.get(member_url)\n",
        "  c = response.content\n",
        "  soup = BS(c,'html.parser')\n",
        "  member_data = {\n",
        "      'name': soup.find('h3').text.split(\".\")[1].strip(),\n",
        "      'alias': member['name'],\n",
        "      'dob': soup.find_all('a',{'class':'list-group-item'})[0].text.split(':')[1].strip(),\n",
        "      'image': urljoin(domain,soup.find('img',{'alt':'Avatar'}).get('src')),\n",
        "      'address': soup.find('div',{'class':'col-md-3'}).find_all('a')[4].text.split(':')[1].strip().title(),\n",
        "      'phone': soup.find('div',{'class':'col-md-3'}).find_all('a')[5].text.split(':')[1].strip(),\n",
        "      'email': soup.find('div',{'class':'col-md-3'}).find_all('a')[6].text.split(':')[1].strip(),\n",
        "      'previous_office': soup.find_all('div',{'class':'tab-content'})[1].text.strip().replace(\"\\xa0\",\"\").split('\\n'),\n",
        "      'education': soup.find('div',{'id':'tab-education'}).text.strip().split(\"                 \"),\n",
        "      'awards': soup.find('div',{'id':'tab-awards'}).text.strip().split(\"                 \"),\n",
        "      'chamber': soup.find_all('a',{'class':'list-group-item'})[1].text.split(':')[1].strip(),\n",
        "      'party': soup.find_all('a',{'class':'list-group-item'})[2].text.split(':')[1].strip(),\n",
        "      'position': soup.find_all('a',{'class':'list-group-item'})[3].text.strip(),\n",
        "      'state': member['state'],\n",
        "      'region': soup.find('div',{'class':'heading-block'}).span.text.strip(),\n",
        "      'area': member['area'],\n",
        "      'source': member['url']\n",
        "\n",
        "  }\n",
        "  try:\n",
        "    response = requests.get(bills_url).json()\n",
        "    bills = response['data']\n",
        "    member_data['bills'] = bills\n",
        "  except:\n",
        "    print(\"no bills found\")\n",
        "    pass\n",
        "\n",
        "  house_rep.append(member_data)\n",
        "\n",
        "  # df = pd.DataFrame(data)"
      ],
      "execution_count": 0,
      "outputs": []
    },
    {
      "cell_type": "markdown",
      "metadata": {
        "id": "rXXbyfYLUvia",
        "colab_type": "text"
      },
      "source": [
        "## Work from DataFrame"
      ]
    },
    {
      "cell_type": "code",
      "metadata": {
        "id": "IxrtoNtA98U4",
        "colab_type": "code",
        "colab": {}
      },
      "source": [
        "df = pd.DataFrame(house_rep)"
      ],
      "execution_count": 0,
      "outputs": []
    },
    {
      "cell_type": "code",
      "metadata": {
        "id": "8mBt3wk1MecM",
        "colab_type": "code",
        "outputId": "372aa0c0-8c88-4d14-86e6-abd540af60c3",
        "colab": {
          "base_uri": "https://localhost:8080/",
          "height": 442
        }
      },
      "source": [
        "df.info()"
      ],
      "execution_count": 0,
      "outputs": [
        {
          "output_type": "stream",
          "text": [
            "<class 'pandas.core.frame.DataFrame'>\n",
            "RangeIndex: 460 entries, 0 to 459\n",
            "Data columns (total 18 columns):\n",
            " #   Column           Non-Null Count  Dtype \n",
            "---  ------           --------------  ----- \n",
            " 0   name             460 non-null    object\n",
            " 1   alias            460 non-null    object\n",
            " 2   dob              460 non-null    object\n",
            " 3   image            460 non-null    object\n",
            " 4   address          460 non-null    object\n",
            " 5   phone            460 non-null    object\n",
            " 6   email            460 non-null    object\n",
            " 7   previous_office  460 non-null    object\n",
            " 8   education        460 non-null    object\n",
            " 9   awards           460 non-null    object\n",
            " 10  chamber          460 non-null    object\n",
            " 11  party            460 non-null    object\n",
            " 12  position         460 non-null    object\n",
            " 13  state            460 non-null    object\n",
            " 14  region           460 non-null    object\n",
            " 15  area             460 non-null    object\n",
            " 16  source           460 non-null    object\n",
            " 17  bills            460 non-null    object\n",
            "dtypes: object(18)\n",
            "memory usage: 64.8+ KB\n"
          ],
          "name": "stdout"
        }
      ]
    },
    {
      "cell_type": "code",
      "metadata": {
        "id": "XhCUhi5nPwg5",
        "colab_type": "code",
        "colab": {}
      },
      "source": [
        "# df.to_csv('NG_NA_MPs_Senators.csv')"
      ],
      "execution_count": 0,
      "outputs": []
    },
    {
      "cell_type": "code",
      "metadata": {
        "id": "vAk6aQySBjDC",
        "colab_type": "code",
        "colab": {}
      },
      "source": [
        ""
      ],
      "execution_count": 0,
      "outputs": []
    }
  ],
  "metadata": {
    "colab": {
      "name": "ng_NA_members.ipynb",
      "provenance": []
    },
    "kernelspec": {
      "name": "python3",
      "display_name": "Python 3"
    },
    "accelerator": "GPU"
  },
  "nbformat": 4,
  "nbformat_minor": 0
}