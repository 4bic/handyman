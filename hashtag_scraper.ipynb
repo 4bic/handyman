{
  "nbformat": 4,
  "nbformat_minor": 0,
  "metadata": {
    "colab": {
      "name": "hashtag_scraper.ipynb",
      "provenance": [],
      "mount_file_id": "1THYBRdUIuxQT-9p0cLfe9vdFAQe3HFV8",
      "authorship_tag": "ABX9TyMTWTwe0VYMLHq98+pS8dHc",
      "include_colab_link": true
    },
    "kernelspec": {
      "name": "python3",
      "display_name": "Python 3"
    },
    "accelerator": "TPU"
  },
  "cells": [
    {
      "cell_type": "markdown",
      "metadata": {
        "id": "view-in-github",
        "colab_type": "text"
      },
      "source": [
        "<a href=\"https://colab.research.google.com/github/4bic/handyman/blob/master/hashtag_scraper.ipynb\" target=\"_parent\"><img src=\"https://colab.research.google.com/assets/colab-badge.svg\" alt=\"Open In Colab\"/></a>"
      ]
    },
    {
      "cell_type": "code",
      "metadata": {
        "id": "V5gQZ50_6_xf",
        "colab_type": "code",
        "colab": {}
      },
      "source": [
        "! pip install twint"
      ],
      "execution_count": 0,
      "outputs": []
    },
    {
      "cell_type": "code",
      "metadata": {
        "id": "IBVYFUGJ7CWU",
        "colab_type": "code",
        "outputId": "fa8f119b-1015-41a9-dafe-9993f4717095",
        "colab": {
          "base_uri": "https://localhost:8080/",
          "height": 34
        }
      },
      "source": [
        "%cd \"/content/drive/My Drive/Colab_Notebooks/trolls/28_05_tweets\""
      ],
      "execution_count": 46,
      "outputs": [
        {
          "output_type": "stream",
          "text": [
            "/content/drive/My Drive/Colab_Notebooks/trolls/28_05_tweets\n"
          ],
          "name": "stdout"
        }
      ]
    },
    {
      "cell_type": "code",
      "metadata": {
        "id": "559QRQ2s6z62",
        "colab_type": "code",
        "colab": {}
      },
      "source": [
        "import twint\n",
        "import pandas as pd\n",
        "from glob import glob\n",
        "from pathlib import Path"
      ],
      "execution_count": 0,
      "outputs": []
    },
    {
      "cell_type": "code",
      "metadata": {
        "id": "C4LCqkgo7Vf7",
        "colab_type": "code",
        "colab": {}
      },
      "source": [
        "hashTags = ['#TGSupportsUhuru','#RutoTheWifeBeater','#RutoWantedToKillUhuru', '#RutoMustGo','#RutoGhostNumbers']\n"
      ],
      "execution_count": 0,
      "outputs": []
    },
    {
      "cell_type": "code",
      "metadata": {
        "id": "Kh3SevFj7oFD",
        "colab_type": "code",
        "colab": {}
      },
      "source": [
        " for tag in  hashTags:\n",
        "    # Set up  config\n",
        "    c = twint.Config()\n",
        "    c.Limit = 5000\n",
        "    c.Search = tag\n",
        "    c.User_full = True\n",
        "    # include RETWEETS\n",
        "    c.Native_retweets=True\n",
        "    c.Store_csv = True\n",
        "    c.Output = str(tag).lower()+'.csv'\n",
        "    # c.Resume = \"my_search_id_.txt\"\n",
        "    twint.run.Search(c)\n"
      ],
      "execution_count": 0,
      "outputs": []
    },
    {
      "cell_type": "code",
      "metadata": {
        "id": "HXj0any9rNuz",
        "colab_type": "code",
        "colab": {}
      },
      "source": [
        "# tag = \"#HowRutoBetrayedUhuru\"\n",
        "\n",
        "# # Set up  config\n",
        "# c = twint.Config()\n",
        "# c.Limit = 5000\n",
        "# c.Search = tag\n",
        "# c.User_full = True\n",
        "# # include RETWEETS\n",
        "# c.Native_retweets=True\n",
        "# c.Store_csv = True\n",
        "# c.Output = str(tag).lower()+'.csv'\n",
        "# # c.Resume = \"my_search_id_.txt\"\n",
        "# twint.run.Search(c)\n",
        "\n"
      ],
      "execution_count": 0,
      "outputs": []
    },
    {
      "cell_type": "code",
      "metadata": {
        "id": "4X2o21BRlhVR",
        "colab_type": "code",
        "colab": {}
      },
      "source": [
        "for tag in  hashTags:\n",
        "  print(tag)"
      ],
      "execution_count": 0,
      "outputs": []
    },
    {
      "cell_type": "code",
      "metadata": {
        "id": "-DdaVHh0DE7r",
        "colab_type": "code",
        "colab": {}
      },
      "source": [
        "all_files = glob(\"*.csv\")"
      ],
      "execution_count": 0,
      "outputs": []
    },
    {
      "cell_type": "code",
      "metadata": {
        "id": "mqUkaPpJEBra",
        "colab_type": "code",
        "outputId": "62450e59-786c-4b8c-ecff-7644b19a41a8",
        "colab": {
          "base_uri": "https://localhost:8080/",
          "height": 119
        }
      },
      "source": [
        "for f in all_files:\n",
        "  print (f)"
      ],
      "execution_count": 51,
      "outputs": [
        {
          "output_type": "stream",
          "text": [
            "#rutothewifebeater.csv\n",
            "#rutowantedtokilluhuru.csv\n",
            "#rutomustgo.csv\n",
            "#rutoghostnumbers.csv\n",
            "#tgsupportsuhuru.csv\n",
            "#howrutobetrayeduhuru.csv\n"
          ],
          "name": "stdout"
        }
      ]
    },
    {
      "cell_type": "code",
      "metadata": {
        "id": "YCI26HjODRz5",
        "colab_type": "code",
        "colab": {}
      },
      "source": [
        "list_of_df = [pd.read_csv(f,parse_dates=['date','time','retweet_date']) for f in all_files]\n",
        "\n",
        "df = pd.concat(list_of_df, ignore_index=True)"
      ],
      "execution_count": 0,
      "outputs": []
    },
    {
      "cell_type": "code",
      "metadata": {
        "id": "1sz0RxsHD4Br",
        "colab_type": "code",
        "outputId": "a0fe72da-e139-47dd-8338-3aab791bc6b1",
        "colab": {
          "base_uri": "https://localhost:8080/",
          "height": 34
        }
      },
      "source": [
        "len(list_of_df)"
      ],
      "execution_count": 56,
      "outputs": [
        {
          "output_type": "execute_result",
          "data": {
            "text/plain": [
              "6"
            ]
          },
          "metadata": {
            "tags": []
          },
          "execution_count": 56
        }
      ]
    },
    {
      "cell_type": "code",
      "metadata": {
        "id": "14y0BuCnEm2_",
        "colab_type": "code",
        "outputId": "17e0338b-74d6-4a7c-e610-43d1c16f5b2f",
        "colab": {
          "base_uri": "https://localhost:8080/",
          "height": 714
        }
      },
      "source": [
        "df.info()"
      ],
      "execution_count": 57,
      "outputs": [
        {
          "output_type": "stream",
          "text": [
            "<class 'pandas.core.frame.DataFrame'>\n",
            "RangeIndex: 26037 entries, 0 to 26036\n",
            "Data columns (total 34 columns):\n",
            " #   Column           Non-Null Count  Dtype         \n",
            "---  ------           --------------  -----         \n",
            " 0   id               26037 non-null  int64         \n",
            " 1   conversation_id  26037 non-null  int64         \n",
            " 2   created_at       26037 non-null  int64         \n",
            " 3   date             26037 non-null  datetime64[ns]\n",
            " 4   time             26037 non-null  datetime64[ns]\n",
            " 5   timezone         26037 non-null  object        \n",
            " 6   user_id          26037 non-null  int64         \n",
            " 7   username         26037 non-null  object        \n",
            " 8   name             26037 non-null  object        \n",
            " 9   place            352 non-null    object        \n",
            " 10  tweet            26037 non-null  object        \n",
            " 11  mentions         26037 non-null  object        \n",
            " 12  urls             26037 non-null  object        \n",
            " 13  photos           26037 non-null  object        \n",
            " 14  replies_count    26037 non-null  int64         \n",
            " 15  retweets_count   26037 non-null  int64         \n",
            " 16  likes_count      26037 non-null  int64         \n",
            " 17  hashtags         26037 non-null  object        \n",
            " 18  cashtags         26037 non-null  object        \n",
            " 19  link             26037 non-null  object        \n",
            " 20  retweet          26037 non-null  bool          \n",
            " 21  quote_url        297 non-null    object        \n",
            " 22  video            26037 non-null  int64         \n",
            " 23  near             0 non-null      float64       \n",
            " 24  geo              0 non-null      float64       \n",
            " 25  source           0 non-null      float64       \n",
            " 26  user_rt_id       26037 non-null  int64         \n",
            " 27  user_rt          26037 non-null  object        \n",
            " 28  retweet_id       26037 non-null  int64         \n",
            " 29  reply_to         26037 non-null  object        \n",
            " 30  retweet_date     26037 non-null  datetime64[ns]\n",
            " 31  translate        0 non-null      float64       \n",
            " 32  trans_src        0 non-null      float64       \n",
            " 33  trans_dest       0 non-null      float64       \n",
            "dtypes: bool(1), datetime64[ns](3), float64(6), int64(10), object(14)\n",
            "memory usage: 6.6+ MB\n"
          ],
          "name": "stdout"
        }
      ]
    },
    {
      "cell_type": "code",
      "metadata": {
        "id": "LkZlfqJNGQ1D",
        "colab_type": "code",
        "colab": {}
      },
      "source": [
        "df['hashtags'].replace(\"\\['|\\']\", \"\", regex = True, inplace=True)"
      ],
      "execution_count": 0,
      "outputs": []
    },
    {
      "cell_type": "code",
      "metadata": {
        "id": "PgbPeTYoEa4k",
        "colab_type": "code",
        "colab": {}
      },
      "source": [
        "hashtag_lower = ['#tgsupportsuhuru','#rutothewifebeater','#rutowantedtokilluhuru', '#rutomustgo','#rutoghostnumbers','#howrutobetrayeduhuru']"
      ],
      "execution_count": 0,
      "outputs": []
    },
    {
      "cell_type": "code",
      "metadata": {
        "id": "sqlH6XQiHikK",
        "colab_type": "code",
        "outputId": "c1020922-ce84-46ad-ce3a-be25127173e6",
        "colab": {
          "base_uri": "https://localhost:8080/",
          "height": 241
        }
      },
      "source": [
        "df['hashtags'].value_counts()"
      ],
      "execution_count": 64,
      "outputs": [
        {
          "output_type": "execute_result",
          "data": {
            "text/plain": [
              "#rutomustgo                                                                                                                                                                                                                                      4338\n",
              "#rutothewifebeater                                                                                                                                                                                                                               3771\n",
              "#rutoghostnumbers                                                                                                                                                                                                                                3596\n",
              "#howrutobetrayeduhuru                                                                                                                                                                                                                            3314\n",
              "#rutowantedtokilluhuru                                                                                                                                                                                                                           2664\n",
              "                                                                                                                                                                                                                                                 ... \n",
              "#rutothewifebeater', '#backtoschool', '#size8at7', '#cocacolagirl', '#operanewshub                                                                                                                                                                  1\n",
              "#maga', '#trump2020nowmorethanever', '#obamagate', '#memorialdayweekend', '#covid19', '#rutoghostnumbers', '#bundesliga                                                                                                                             1\n",
              "#williamruto', '#tgsupportsuhuru', '#railaodinga', '#kawangware', '#williamruto                                                                                                                                                                     1\n",
              "#africaday2020', '#arewatwitter', '#baekhyun_candy', '#coloured', '#rutowantedtokilluhuru', '#ladakh', '#uninstalltiktok', '#africaday', '#coronomics', '#cilek', '#realme', '#mondaythoughts', '#eidmubarak2020', '#delight', '#productivity       1\n",
              "#kenya', '#rutomustgo                                                                                                                                                                                                                               1\n",
              "Name: hashtags, Length: 939, dtype: int64"
            ]
          },
          "metadata": {
            "tags": []
          },
          "execution_count": 64
        }
      ]
    },
    {
      "cell_type": "code",
      "metadata": {
        "id": "7qTwl6MlH02l",
        "colab_type": "code",
        "colab": {}
      },
      "source": [
        "df_clean = df[df['hashtags'].apply(lambda x : x in hashtag_lower)]"
      ],
      "execution_count": 0,
      "outputs": []
    },
    {
      "cell_type": "code",
      "metadata": {
        "id": "XrsYu-MRIrdj",
        "colab_type": "code",
        "outputId": "6d2a70f3-46eb-465f-ca9d-91feecace68e",
        "colab": {
          "base_uri": "https://localhost:8080/",
          "height": 136
        }
      },
      "source": [
        "df_clean['hashtags'].value_counts()"
      ],
      "execution_count": 66,
      "outputs": [
        {
          "output_type": "execute_result",
          "data": {
            "text/plain": [
              "#rutomustgo               4338\n",
              "#rutothewifebeater        3771\n",
              "#rutoghostnumbers         3596\n",
              "#howrutobetrayeduhuru     3314\n",
              "#rutowantedtokilluhuru    2664\n",
              "#tgsupportsuhuru          1077\n",
              "Name: hashtags, dtype: int64"
            ]
          },
          "metadata": {
            "tags": []
          },
          "execution_count": 66
        }
      ]
    },
    {
      "cell_type": "code",
      "metadata": {
        "id": "vlpThDTmK3ju",
        "colab_type": "code",
        "colab": {}
      },
      "source": [
        "# df_clean.to_csv('28_trolls_tweets.csv')"
      ],
      "execution_count": 0,
      "outputs": []
    },
    {
      "cell_type": "code",
      "metadata": {
        "id": "eZnkt02EOtEW",
        "colab_type": "code",
        "colab": {}
      },
      "source": [
        ""
      ],
      "execution_count": 0,
      "outputs": []
    }
  ]
}